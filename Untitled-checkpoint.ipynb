{
 "cells": [
  {
   "cell_type": "code",
   "execution_count": 6,
   "metadata": {},
   "outputs": [
    {
     "name": "stdout",
     "output_type": "stream",
     "text": [
      "The following is the results of α, the coefficient of linear expansion  0.017228309558266146  and its uncertainty  0.016367049132493074 .\n"
     ]
    }
   ],
   "source": [
    "import numpy as np\n",
    "L= 1.05 #meter\n",
    "e_L= 1 #milimeter\n",
    "delta_L = 1.25 #milimeter\n",
    "e_delta_L = 0.01 #milimeter\n",
    "Ti= 23.4 #celsius\n",
    "Tf= 92.5#celsius\n",
    "delta_T = (Tf-Ti)\n",
    "e_Ti = 0.3 #celsius\n",
    "e_Tf = 0.1 #celsius\n",
    "def rule3(e_Tf,e_Ti):\n",
    "    e_delta_T = np.sqrt((e_Tf)**2+(e_Ti)**2)\n",
    "    return e_delta_T\n",
    "\n",
    "e_chg_temp = rule3(e_Tf,e_Ti)\n",
    "\n",
    "def rule4(a,e_delta_L,delta_L,e_L,L,e_chg_temp,delta_T):\n",
    "    (e_a) = (np.sqrt(((e_delta_L/delta_L))**2+(-1*(e_L/L))**2+(-1*(e_chg_temp/delta_T)))*alpha1)\n",
    "    return e_a\n",
    "\n",
    "\n",
    "\n",
    "def a(delta_L,L,Tf,Ti):\n",
    "    alpha = delta_L/(L*(Tf-Ti))\n",
    "    return alpha\n",
    "alpha1= a(delta_L,L,Tf,Ti)\n",
    "\n",
    "e_alpha = rule4(alpha1,e_delta_L,delta_L,e_L,L,e_chg_temp,delta_T)\n",
    "\n",
    "print(\"The following is the results of α, the coefficient of linear expansion \",alpha1,\" and its uncertainty \",e_alpha,\".\" )"
   ]
  },
  {
   "cell_type": "code",
   "execution_count": null,
   "metadata": {},
   "outputs": [],
   "source": []
  },
  {
   "cell_type": "code",
   "execution_count": null,
   "metadata": {},
   "outputs": [],
   "source": []
  },
  {
   "cell_type": "code",
   "execution_count": null,
   "metadata": {},
   "outputs": [],
   "source": []
  }
 ],
 "metadata": {
  "kernelspec": {
   "display_name": "Python 3",
   "language": "python",
   "name": "python3"
  },
  "language_info": {
   "codemirror_mode": {
    "name": "ipython",
    "version": 3
   },
   "file_extension": ".py",
   "mimetype": "text/x-python",
   "name": "python",
   "nbconvert_exporter": "python",
   "pygments_lexer": "ipython3",
   "version": "3.6.5"
  }
 },
 "nbformat": 4,
 "nbformat_minor": 2
}
